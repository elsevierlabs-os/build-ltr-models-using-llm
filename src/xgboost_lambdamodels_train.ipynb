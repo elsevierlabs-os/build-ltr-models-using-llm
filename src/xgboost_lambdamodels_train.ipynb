{
  "nbformat": 4,
  "nbformat_minor": 0,
  "metadata": {
    "colab": {
      "provenance": []
    },
    "kernelspec": {
      "name": "python3",
      "display_name": "Python 3"
    },
    "language_info": {
      "name": "python"
    }
  },
  "cells": [
    {
      "cell_type": "markdown",
      "source": [
        "# LambdaMART using DMLC XGBoost\n",
        "\n",
        "## Imports"
      ],
      "metadata": {
        "id": "CgJKKAFg5yma"
      }
    },
    {
      "cell_type": "code",
      "execution_count": 1,
      "metadata": {
        "id": "XcdKmxdM5sS3"
      },
      "outputs": [],
      "source": [
        "import json\n",
        "import numpy as np\n",
        "import os\n",
        "import xgboost as xgb\n",
        "\n",
        "from sklearn.datasets import dump_svmlight_file\n",
        "from sklearn.model_selection import GroupShuffleSplit\n",
        "from sklearn.preprocessing import MinMaxScaler"
      ]
    },
    {
      "cell_type": "markdown",
      "source": [
        "## Mount Drive"
      ],
      "metadata": {
        "id": "aT2xSGsADgrr"
      }
    },
    {
      "cell_type": "code",
      "source": [
        "from google.colab import drive\n",
        "\n",
        "drive.mount('/content/drive/')"
      ],
      "metadata": {
        "colab": {
          "base_uri": "https://localhost:8080/"
        },
        "id": "jQV33TQ-54bk",
        "outputId": "e9baf3ca-4705-4f51-d1e5-3aa5a9757369"
      },
      "execution_count": 2,
      "outputs": [
        {
          "output_type": "stream",
          "name": "stdout",
          "text": [
            "Drive already mounted at /content/drive/; to attempt to forcibly remount, call drive.mount(\"/content/drive/\", force_remount=True).\n"
          ]
        }
      ]
    },
    {
      "cell_type": "code",
      "source": [
        "!ls /content/drive/MyDrive/data/ltr-data/"
      ],
      "metadata": {
        "colab": {
          "base_uri": "https://localhost:8080/"
        },
        "id": "QQg5PMB-6fXo",
        "outputId": "99644ecb-389a-4db6-fede-86af42f4cc79"
      },
      "execution_count": 3,
      "outputs": [
        {
          "output_type": "stream",
          "name": "stdout",
          "text": [
            "candidate-list-5features.jsonl\n"
          ]
        }
      ]
    },
    {
      "cell_type": "markdown",
      "source": [
        "## Constants"
      ],
      "metadata": {
        "id": "WjlODdNJDlHD"
      }
    },
    {
      "cell_type": "code",
      "source": [
        "LTR_DATA_DIR = \"/content/drive/MyDrive/data/ltr-data\"\n",
        "INPUT_FILE = os.path.join(LTR_DATA_DIR, \"candidate-list-5features.jsonl\")\n",
        "\n",
        "TRAIN_FILE = os.path.join(LTR_DATA_DIR, \"train.svml\")\n",
        "TEST_FILE = os.path.join(LTR_DATA_DIR, \"test.svml\")\n",
        "\n",
        "LR_MODEL_FILE = os.path.join(LTR_DATA_DIR, \"lambdarank-model.json\")\n",
        "LM_MODEL_FILE = os.path.join(LTR_DATA_DIR, \"lambdamart-model.json\")"
      ],
      "metadata": {
        "id": "2rsSUTZ86uay"
      },
      "execution_count": 4,
      "outputs": []
    },
    {
      "cell_type": "markdown",
      "source": [
        "## Data Preparation"
      ],
      "metadata": {
        "id": "1ewcQ8JADm4D"
      }
    },
    {
      "cell_type": "code",
      "source": [
        "query2qid = {}\n",
        "next_qid = 1\n",
        "with open(INPUT_FILE, \"r\", encoding=\"utf-8\") as fjson:\n",
        "  for line in fjson:\n",
        "    rec = json.loads(line.strip())\n",
        "    query = rec[\"query\"]\n",
        "    if query not in query2qid.keys():\n",
        "      query2qid[query] = next_qid\n",
        "      next_qid += 1\n",
        "\n",
        "print(len(query2qid))"
      ],
      "metadata": {
        "colab": {
          "base_uri": "https://localhost:8080/"
        },
        "id": "_RKlCckP7KEk",
        "outputId": "a9224fd0-765f-491e-db64-165562ea7dd0"
      },
      "execution_count": 5,
      "outputs": [
        {
          "output_type": "stream",
          "name": "stdout",
          "text": [
            "250\n"
          ]
        }
      ]
    },
    {
      "cell_type": "code",
      "source": [
        "features, labels, qids = [], [], []\n",
        "non_feature_cols = set([\"query\", \"doc_id\", \"label\"])\n",
        "with open(INPUT_FILE, \"r\", encoding=\"utf-8\") as fjson:\n",
        "  for line in fjson:\n",
        "    rec = json.loads(line.strip())\n",
        "    features.append(np.array(\n",
        "        [float(col_value) for col_name, col_value in rec.items()\n",
        "        if col_name not in non_feature_cols]))\n",
        "    labels.append(rec[\"label\"])\n",
        "    qids.append(query2qid[rec[\"query\"]])\n",
        "\n",
        "X = np.array(features)\n",
        "y = np.array(labels)\n",
        "query_id = np.array(qids)\n",
        "\n",
        "X.shape, y.shape, query_id.shape"
      ],
      "metadata": {
        "colab": {
          "base_uri": "https://localhost:8080/"
        },
        "id": "1_PAErtJ7hXV",
        "outputId": "c2a64aba-b0b9-4487-83d5-28887cac797f"
      },
      "execution_count": 6,
      "outputs": [
        {
          "output_type": "execute_result",
          "data": {
            "text/plain": [
              "((5004, 61), (5004,), (5004,))"
            ]
          },
          "metadata": {},
          "execution_count": 6
        }
      ]
    },
    {
      "cell_type": "markdown",
      "source": [
        "### Scale Features"
      ],
      "metadata": {
        "id": "8CeUde-nDrp6"
      }
    },
    {
      "cell_type": "code",
      "source": [
        "scaler = MinMaxScaler()\n",
        "Xscaled = scaler.fit_transform(X)\n",
        "\n",
        "Xscaled.shape"
      ],
      "metadata": {
        "colab": {
          "base_uri": "https://localhost:8080/"
        },
        "id": "EsyIAv1f_xwz",
        "outputId": "0170dacc-a29c-44cf-8c1b-42500c5e04c8"
      },
      "execution_count": 7,
      "outputs": [
        {
          "output_type": "execute_result",
          "data": {
            "text/plain": [
              "(5004, 61)"
            ]
          },
          "metadata": {},
          "execution_count": 7
        }
      ]
    },
    {
      "cell_type": "markdown",
      "source": [
        "### Train Test Split"
      ],
      "metadata": {
        "id": "8371VqPeDuEi"
      }
    },
    {
      "cell_type": "code",
      "source": [
        "gss = GroupShuffleSplit(n_splits=1, test_size=0.1, random_state=42)\n",
        "split_idxs = gss.split(Xscaled, y, query_id)\n",
        "train_idxs, test_idxs = next(split_idxs)"
      ],
      "metadata": {
        "id": "GNyAjzU7AxIc"
      },
      "execution_count": 8,
      "outputs": []
    },
    {
      "cell_type": "code",
      "source": [
        "Xtrain, ytrain, groups_train = Xscaled[train_idxs], y[train_idxs], query_id[train_idxs]\n",
        "Xtest, ytest, groups_test = Xscaled[test_idxs], y[test_idxs], query_id[test_idxs]\n",
        "\n",
        "Xtrain.shape, ytrain.shape, groups_train.shape, Xtest.shape, ytest.shape, groups_test.shape"
      ],
      "metadata": {
        "colab": {
          "base_uri": "https://localhost:8080/"
        },
        "id": "Nj2j_7aaBiqr",
        "outputId": "5b8c0e75-c745-43ad-90ef-e7c8c07aaa0a"
      },
      "execution_count": 9,
      "outputs": [
        {
          "output_type": "execute_result",
          "data": {
            "text/plain": [
              "((4504, 61), (4504,), (4504,), (500, 61), (500,), (500,))"
            ]
          },
          "metadata": {},
          "execution_count": 9
        }
      ]
    },
    {
      "cell_type": "markdown",
      "source": [
        "### Convert to SVM Light format for XGBoost"
      ],
      "metadata": {
        "id": "biJP_-QPDwrv"
      }
    },
    {
      "cell_type": "code",
      "source": [
        "dump_svmlight_file(Xtrain, ytrain, TRAIN_FILE, zero_based=False, query_id=groups_train)\n",
        "dump_svmlight_file(Xtest, ytest, TEST_FILE, zero_based=False, query_id=groups_test)"
      ],
      "metadata": {
        "id": "a2i7Jw7e71vR"
      },
      "execution_count": 10,
      "outputs": []
    },
    {
      "cell_type": "code",
      "source": [
        "!wc -l /content/drive/MyDrive/data/ltr-data/*.svml"
      ],
      "metadata": {
        "colab": {
          "base_uri": "https://localhost:8080/"
        },
        "id": "6UlY68F0_Yze",
        "outputId": "5b2a149d-ffc6-4937-ae69-2f30f960ad33"
      },
      "execution_count": 11,
      "outputs": [
        {
          "output_type": "stream",
          "name": "stdout",
          "text": [
            "    500 /content/drive/MyDrive/data/ltr-data/test.svml\n",
            "   4504 /content/drive/MyDrive/data/ltr-data/train.svml\n",
            "   5004 total\n"
          ]
        }
      ]
    },
    {
      "cell_type": "markdown",
      "source": [
        "## Model Training"
      ],
      "metadata": {
        "id": "Hi39xdOjD442"
      }
    },
    {
      "cell_type": "code",
      "source": [
        "dtrain = xgb.DMatrix(TRAIN_FILE + \"?format=libsvm\")\n",
        "dtest = xgb.DMatrix(TEST_FILE + \"?format=libsvm\")"
      ],
      "metadata": {
        "id": "R7LTHHxWDUaF"
      },
      "execution_count": 12,
      "outputs": []
    },
    {
      "cell_type": "markdown",
      "source": [
        "### LambdaRank Model (rank:pairwise)"
      ],
      "metadata": {
        "id": "E11oQq9xG2qP"
      }
    },
    {
      "cell_type": "code",
      "source": [
        "params = {\n",
        "  'objective': 'rank:pairwise',\n",
        "  'eta': 0.1,\n",
        "  'gamma': 1.0,\n",
        "  'min_child_weight': 0.1,\n",
        "  'max_depth': 6\n",
        "}\n",
        "num_rounds = 10\n",
        "\n",
        "params['eval_metric'] = ['ndcg@10']\n",
        "evallist = [ (dtrain, 'train'), (dtest, 'test') ]\n",
        "\n",
        "model_lr = xgb.train(params, dtrain, num_rounds, evals=evallist)"
      ],
      "metadata": {
        "colab": {
          "base_uri": "https://localhost:8080/"
        },
        "id": "_dlchI2KFhh-",
        "outputId": "05e51811-7a14-4caf-aeb0-db714b113f9b"
      },
      "execution_count": 13,
      "outputs": [
        {
          "output_type": "stream",
          "name": "stdout",
          "text": [
            "[0]\ttrain-ndcg@10:0.86274\ttest-ndcg@10:0.79469\n",
            "[1]\ttrain-ndcg@10:0.89202\ttest-ndcg@10:0.80127\n",
            "[2]\ttrain-ndcg@10:0.90400\ttest-ndcg@10:0.80605\n",
            "[3]\ttrain-ndcg@10:0.91098\ttest-ndcg@10:0.82094\n",
            "[4]\ttrain-ndcg@10:0.91857\ttest-ndcg@10:0.82225\n",
            "[5]\ttrain-ndcg@10:0.92669\ttest-ndcg@10:0.83030\n",
            "[6]\ttrain-ndcg@10:0.93682\ttest-ndcg@10:0.83075\n",
            "[7]\ttrain-ndcg@10:0.93999\ttest-ndcg@10:0.80711\n",
            "[8]\ttrain-ndcg@10:0.94905\ttest-ndcg@10:0.82735\n",
            "[9]\ttrain-ndcg@10:0.95226\ttest-ndcg@10:0.82344\n"
          ]
        }
      ]
    },
    {
      "cell_type": "code",
      "source": [
        "model_lr.save_model(LR_MODEL_FILE)"
      ],
      "metadata": {
        "id": "Ogs_v85RX2ga"
      },
      "execution_count": 14,
      "outputs": []
    },
    {
      "cell_type": "markdown",
      "source": [
        "## LambdaMART Model (rank:ndcg)"
      ],
      "metadata": {
        "id": "Kxvx28kcJrj_"
      }
    },
    {
      "cell_type": "code",
      "source": [
        "params = {\n",
        "  'objective': 'rank:ndcg',\n",
        "  'eta': 0.1,\n",
        "  'gamma': 1.0,\n",
        "  'min_child_weight': 0.1,\n",
        "  'max_depth': 6\n",
        "}\n",
        "num_rounds = 10\n",
        "\n",
        "params['eval_metric'] = ['ndcg@10']\n",
        "evallist = [ (dtrain, 'train'), (dtest, 'test') ]\n",
        "\n",
        "model_lm = xgb.train(params, dtrain, num_rounds, evals=evallist)"
      ],
      "metadata": {
        "colab": {
          "base_uri": "https://localhost:8080/"
        },
        "id": "n85PZNdHJvh_",
        "outputId": "9e40a410-f405-472a-85bd-1f823628ca07"
      },
      "execution_count": 15,
      "outputs": [
        {
          "output_type": "stream",
          "name": "stdout",
          "text": [
            "[0]\ttrain-ndcg@10:0.83917\ttest-ndcg@10:0.79532\n",
            "[1]\ttrain-ndcg@10:0.87522\ttest-ndcg@10:0.81703\n",
            "[2]\ttrain-ndcg@10:0.89649\ttest-ndcg@10:0.82095\n",
            "[3]\ttrain-ndcg@10:0.90580\ttest-ndcg@10:0.81629\n",
            "[4]\ttrain-ndcg@10:0.91194\ttest-ndcg@10:0.82056\n",
            "[5]\ttrain-ndcg@10:0.91315\ttest-ndcg@10:0.81586\n",
            "[6]\ttrain-ndcg@10:0.91641\ttest-ndcg@10:0.81577\n",
            "[7]\ttrain-ndcg@10:0.91879\ttest-ndcg@10:0.81788\n",
            "[8]\ttrain-ndcg@10:0.91820\ttest-ndcg@10:0.81995\n",
            "[9]\ttrain-ndcg@10:0.91909\ttest-ndcg@10:0.81711\n"
          ]
        }
      ]
    },
    {
      "cell_type": "code",
      "source": [
        "model_lm.save_model(LM_MODEL_FILE)"
      ],
      "metadata": {
        "id": "_tLGsgecXwV2"
      },
      "execution_count": 16,
      "outputs": []
    },
    {
      "cell_type": "code",
      "source": [
        "# pred = model.predict(dtest)\n",
        "\n",
        "# eval = xgb.rank.eval.ndcg(pred, dtest, 10)\n",
        "# # print('NDCG@10:', eval)"
      ],
      "metadata": {
        "id": "prDpHXfBHLrE"
      },
      "execution_count": 17,
      "outputs": []
    },
    {
      "cell_type": "code",
      "source": [],
      "metadata": {
        "id": "mbJhNR8RHaw6"
      },
      "execution_count": 17,
      "outputs": []
    }
  ]
}